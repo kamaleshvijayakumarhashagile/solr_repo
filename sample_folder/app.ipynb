{
 "cells": [
  {
   "cell_type": "code",
   "execution_count": 1,
   "metadata": {},
   "outputs": [],
   "source": [
    "import os\n",
    "import requests"
   ]
  },
  {
   "cell_type": "code",
   "execution_count": 6,
   "metadata": {},
   "outputs": [
    {
     "name": "stdout",
     "output_type": "stream",
     "text": [
      "Downloaded downloaded_files/entity_conf_9_7_2/currency.xml.\n",
      "Downloaded downloaded_files/entity_conf_9_7_2/elevate.xml.\n",
      "Downloaded downloaded_files/entity_conf_9_7_2/lang/entity_conf_9_7_2/lang/contractions_ca.txt.\n",
      "Downloaded downloaded_files/entity_conf_9_7_2/lang/entity_conf_9_7_2/lang/contractions_fr.txt.\n",
      "Downloaded downloaded_files/entity_conf_9_7_2/lang/entity_conf_9_7_2/lang/contractions_ga.txt.\n",
      "Downloaded downloaded_files/entity_conf_9_7_2/lang/entity_conf_9_7_2/lang/contractions_it.txt.\n",
      "Downloaded downloaded_files/entity_conf_9_7_2/lang/entity_conf_9_7_2/lang/hyphenations_ga.txt.\n",
      "Downloaded downloaded_files/entity_conf_9_7_2/lang/entity_conf_9_7_2/lang/stemdict_nl.txt.\n",
      "Downloaded downloaded_files/entity_conf_9_7_2/lang/entity_conf_9_7_2/lang/stoptags_ja.txt.\n",
      "Downloaded downloaded_files/entity_conf_9_7_2/lang/entity_conf_9_7_2/lang/stopwords_ar.txt.\n",
      "Downloaded downloaded_files/entity_conf_9_7_2/lang/entity_conf_9_7_2/lang/stopwords_bg.txt.\n",
      "Downloaded downloaded_files/entity_conf_9_7_2/lang/entity_conf_9_7_2/lang/stopwords_ca.txt.\n",
      "Downloaded downloaded_files/entity_conf_9_7_2/lang/entity_conf_9_7_2/lang/stopwords_ckb.txt.\n",
      "Downloaded downloaded_files/entity_conf_9_7_2/lang/entity_conf_9_7_2/lang/stopwords_cz.txt.\n",
      "Downloaded downloaded_files/entity_conf_9_7_2/lang/entity_conf_9_7_2/lang/stopwords_da.txt.\n",
      "Downloaded downloaded_files/entity_conf_9_7_2/lang/entity_conf_9_7_2/lang/stopwords_de.txt.\n",
      "Downloaded downloaded_files/entity_conf_9_7_2/lang/entity_conf_9_7_2/lang/stopwords_el.txt.\n",
      "Downloaded downloaded_files/entity_conf_9_7_2/lang/entity_conf_9_7_2/lang/stopwords_en.txt.\n",
      "Downloaded downloaded_files/entity_conf_9_7_2/lang/entity_conf_9_7_2/lang/stopwords_es.txt.\n",
      "Downloaded downloaded_files/entity_conf_9_7_2/lang/entity_conf_9_7_2/lang/stopwords_et.txt.\n",
      "Downloaded downloaded_files/entity_conf_9_7_2/lang/entity_conf_9_7_2/lang/stopwords_eu.txt.\n",
      "Downloaded downloaded_files/entity_conf_9_7_2/lang/entity_conf_9_7_2/lang/stopwords_fa.txt.\n",
      "Downloaded downloaded_files/entity_conf_9_7_2/lang/entity_conf_9_7_2/lang/stopwords_fi.txt.\n",
      "Downloaded downloaded_files/entity_conf_9_7_2/lang/entity_conf_9_7_2/lang/stopwords_fr.txt.\n",
      "Downloaded downloaded_files/entity_conf_9_7_2/lang/entity_conf_9_7_2/lang/stopwords_ga.txt.\n",
      "Downloaded downloaded_files/entity_conf_9_7_2/lang/entity_conf_9_7_2/lang/stopwords_gl.txt.\n",
      "Downloaded downloaded_files/entity_conf_9_7_2/lang/entity_conf_9_7_2/lang/stopwords_hi.txt.\n",
      "Downloaded downloaded_files/entity_conf_9_7_2/lang/entity_conf_9_7_2/lang/stopwords_hu.txt.\n",
      "Downloaded downloaded_files/entity_conf_9_7_2/lang/entity_conf_9_7_2/lang/stopwords_hy.txt.\n",
      "Downloaded downloaded_files/entity_conf_9_7_2/lang/entity_conf_9_7_2/lang/stopwords_id.txt.\n",
      "Downloaded downloaded_files/entity_conf_9_7_2/lang/entity_conf_9_7_2/lang/stopwords_it.txt.\n",
      "Downloaded downloaded_files/entity_conf_9_7_2/lang/entity_conf_9_7_2/lang/stopwords_ja.txt.\n",
      "Downloaded downloaded_files/entity_conf_9_7_2/lang/entity_conf_9_7_2/lang/stopwords_lv.txt.\n",
      "Downloaded downloaded_files/entity_conf_9_7_2/lang/entity_conf_9_7_2/lang/stopwords_nl.txt.\n",
      "Downloaded downloaded_files/entity_conf_9_7_2/lang/entity_conf_9_7_2/lang/stopwords_no.txt.\n",
      "Downloaded downloaded_files/entity_conf_9_7_2/lang/entity_conf_9_7_2/lang/stopwords_pt.txt.\n",
      "Downloaded downloaded_files/entity_conf_9_7_2/lang/entity_conf_9_7_2/lang/stopwords_ro.txt.\n",
      "Downloaded downloaded_files/entity_conf_9_7_2/lang/entity_conf_9_7_2/lang/stopwords_ru.txt.\n",
      "Downloaded downloaded_files/entity_conf_9_7_2/lang/entity_conf_9_7_2/lang/stopwords_sv.txt.\n",
      "Downloaded downloaded_files/entity_conf_9_7_2/lang/entity_conf_9_7_2/lang/stopwords_th.txt.\n",
      "Downloaded downloaded_files/entity_conf_9_7_2/lang/entity_conf_9_7_2/lang/stopwords_tr.txt.\n",
      "Downloaded downloaded_files/entity_conf_9_7_2/lang/entity_conf_9_7_2/lang/userdict_ja.txt.\n",
      "Downloaded downloaded_files/entity_conf_9_7_2/mapping-FoldToASCII.txt.\n",
      "Downloaded downloaded_files/entity_conf_9_7_2/mapping-ISOLatin1Accent.txt.\n",
      "Downloaded downloaded_files/entity_conf_9_7_2/params.json.\n",
      "Downloaded downloaded_files/entity_conf_9_7_2/protwords.txt.\n",
      "Downloaded downloaded_files/entity_conf_9_7_2/schema.xml.\n",
      "Downloaded downloaded_files/entity_conf_9_7_2/solrconfig.xml.\n",
      "Downloaded downloaded_files/entity_conf_9_7_2/spellings.txt.\n",
      "Downloaded downloaded_files/entity_conf_9_7_2/stopwords.txt.\n",
      "Downloaded downloaded_files/entity_conf_9_7_2/synonyms.txt.\n",
      "Downloaded downloaded_files/entity_conf_9_7_2/update-script.js.\n",
      "Downloaded downloaded_files/entity_conf_9_7_2/xslt/entity_conf_9_7_2/xslt/example.xsl.\n",
      "Downloaded downloaded_files/entity_conf_9_7_2/xslt/entity_conf_9_7_2/xslt/example_atom.xsl.\n",
      "Downloaded downloaded_files/entity_conf_9_7_2/xslt/entity_conf_9_7_2/xslt/example_rss.xsl.\n",
      "Downloaded downloaded_files/entity_conf_9_7_2/xslt/entity_conf_9_7_2/xslt/luke.xsl.\n",
      "Downloaded downloaded_files/entity_conf_9_7_2/xslt/entity_conf_9_7_2/xslt/updateXml.xsl.\n"
     ]
    }
   ],
   "source": [
    "def download_github_dir(repo_url, dir_path, save_dir):\n",
    "    url = f\"https://api.github.com/repos/{repo_url}/contents/{dir_path}\"\n",
    "    response = requests.get(url)\n",
    "\n",
    "    if response.status_code == 200:\n",
    "        contents = response.json()\n",
    "        save_path = os.path.join(save_dir, dir_path)\n",
    "\n",
    "        if not os.path.exists(save_path):\n",
    "            os.makedirs(save_path)\n",
    "\n",
    "        for item in contents:\n",
    "            item_path = item['path']\n",
    "            if item['type'] == 'file':\n",
    "                file_url = item['download_url']\n",
    "                save_file_path = os.path.join(save_path, item['name'])\n",
    "                download_file(file_url, save_file_path)\n",
    "            elif item['type'] == 'dir':\n",
    "                new_save_dir = os.path.join(save_path, item['name'])\n",
    "                download_github_dir(repo_url, item_path, new_save_dir)\n",
    "    else:\n",
    "        print(f\"Failed to list contents of {dir_path}. HTTP status code {response.status_code}.\")\n",
    "\n",
    "\n",
    "def download_file(url, save_path):\n",
    "    response = requests.get(url)\n",
    "    if response.status_code == 200:\n",
    "        with open(save_path, 'wb') as file:\n",
    "            file.write(response.content)\n",
    "        print(f\"Downloaded {save_path}.\")\n",
    "    else:\n",
    "        print(f\"Failed to download file. HTTP status code {response.status_code}.\")\n",
    "\n",
    "\n",
    "repo_url = 'kamaleshvijayakumarhashagile/sample_git'\n",
    "dir_path = 'entity_conf_9_7_2'  \n",
    "save_dir = 'downloaded_files'\n",
    "\n",
    "download_github_dir(repo_url, dir_path, save_dir)\n"
   ]
  },
  {
   "cell_type": "code",
   "execution_count": 3,
   "metadata": {},
   "outputs": [],
   "source": [
    "\n",
    "def download_file(url, save_path):\n",
    "    response = requests.get(url)\n",
    "    if response.status_code == 200:\n",
    "        with open(save_path, 'wb') as file:\n",
    "            file.write(response.content)\n",
    "        print(f\"Downloaded {save_path}.\")\n",
    "    else:\n",
    "        print(f\"Failed to download file. HTTP status code {response.status_code}.\")"
   ]
  },
  {
   "cell_type": "code",
   "execution_count": 4,
   "metadata": {},
   "outputs": [
    {
     "name": "stdout",
     "output_type": "stream",
     "text": [
      "Downloaded downloaded_files/sample_dir/sample_file.txt.\n"
     ]
    }
   ],
   "source": [
    "\n",
    "repo_url = 'kamaleshvijayakumarhashagile/sample_git'\n",
    "dir_path = 'sample_dir'  \n",
    "save_dir = 'downloaded_files'\n",
    "\n",
    "download_github_dir(repo_url, dir_path, save_dir)\n"
   ]
  },
  {
   "cell_type": "code",
   "execution_count": 5,
   "metadata": {},
   "outputs": [
    {
     "name": "stdout",
     "output_type": "stream",
     "text": [
      "Constructed Command:\n",
      "curl -O https://raw.githubusercontent.com/kamaleshvijayakumarhashagile/sample_git/main/entity_conf_9_7_2/currency.xml && curl -O https://raw.githubusercontent.com/kamaleshvijayakumarhashagile/sample_git/main/entity_conf_9_7_2/elevate.xml && cd /solr-9.7.0/server/solr/configsets && mkdir -p lang && cd lang && git clone https://github.com/kamaleshvijayakumarhashagile/sample_git/entity_conf_9_7_2/lang && curl -O https://raw.githubusercontent.com/kamaleshvijayakumarhashagile/sample_git/main/entity_conf_9_7_2/mapping-FoldToASCII.txt && curl -O https://raw.githubusercontent.com/kamaleshvijayakumarhashagile/sample_git/main/entity_conf_9_7_2/mapping-ISOLatin1Accent.txt && curl -O https://raw.githubusercontent.com/kamaleshvijayakumarhashagile/sample_git/main/entity_conf_9_7_2/params.json && curl -O https://raw.githubusercontent.com/kamaleshvijayakumarhashagile/sample_git/main/entity_conf_9_7_2/protwords.txt && curl -O https://raw.githubusercontent.com/kamaleshvijayakumarhashagile/sample_git/main/entity_conf_9_7_2/schema.xml && curl -O https://raw.githubusercontent.com/kamaleshvijayakumarhashagile/sample_git/main/entity_conf_9_7_2/solrconfig.xml && curl -O https://raw.githubusercontent.com/kamaleshvijayakumarhashagile/sample_git/main/entity_conf_9_7_2/spellings.txt && curl -O https://raw.githubusercontent.com/kamaleshvijayakumarhashagile/sample_git/main/entity_conf_9_7_2/stopwords.txt && curl -O https://raw.githubusercontent.com/kamaleshvijayakumarhashagile/sample_git/main/entity_conf_9_7_2/synonyms.txt && curl -O https://raw.githubusercontent.com/kamaleshvijayakumarhashagile/sample_git/main/entity_conf_9_7_2/update-script.js && cd /solr-9.7.0/server/solr/configsets && mkdir -p xslt && cd xslt && git clone https://github.com/kamaleshvijayakumarhashagile/sample_git/entity_conf_9_7_2/xslt && /solr-9.7.0/bin/solr zk upconfig -n entity_conf_9_7 -d /solr-9.7.0/server/solr/configsets/entity_conf_9_7 -z zookeeper1:2181,zookeeper2:2181,zookeeper3:2181\n"
     ]
    }
   ],
   "source": [
    "import os\n",
    "import requests\n",
    "import subprocess\n",
    "\n",
    "def run_docker_command(container_id, command):\n",
    "    try:\n",
    "        docker_command = f\"docker exec {container_id} {command}\"\n",
    "        result = subprocess.run(docker_command, shell=True, capture_output=True, text=True)\n",
    "        if result.returncode == 0:\n",
    "            print(\"Command Output:\\n\", result.stdout)\n",
    "        else:\n",
    "            print(f\"Error running command: {result.stderr}\")\n",
    "    except Exception as e:\n",
    "        print(f\"An error occurred: {str(e)}\")\n",
    "\n",
    "repo_url = 'kamaleshvijayakumarhashagile/sample_git'\n",
    "dir_path = 'entity_conf_9_7_2'\n",
    "container_id = 'c06b545bd3d5'  \n",
    "zk_hosts = 'zookeeper1:2181,zookeeper2:2181,zookeeper3:2181'\n",
    "solr_command = f\"/solr-9.7.0/bin/solr zk upconfig -n entity_conf_9_7 -d /solr-9.7.0/server/solr/configsets/entity_conf_9_7 -z {zk_hosts}\"\n",
    "github_api_url = f\"https://api.github.com/repos/{repo_url}/contents/{dir_path}\"\n",
    "\n",
    "try:\n",
    "    response = requests.get(github_api_url)\n",
    "    response.raise_for_status()\n",
    "    contents = response.json()\n",
    "    commands = []\n",
    "    for item in contents:\n",
    "        item_path = item['path']\n",
    "        if item['type'] == 'file':\n",
    "            file_url = item['download_url']\n",
    "            commands.append(f\"curl -O {file_url}\")\n",
    "        elif item['type'] == 'dir':\n",
    "            # Navigate into the configsets directory first\n",
    "            commands.append(f\"cd /solr-9.7.0/server/solr/configsets && mkdir -p {item['name']} && cd {item['name']} && git clone https://github.com/{repo_url}/{item_path}\")\n",
    "\n",
    "    full_command = \" && \".join(commands) + \" && \" + solr_command\n",
    "    \n",
    "    # Print the constructed command instead of executing it\n",
    "    print(f\"Constructed Command:\\n{full_command}\")\n",
    "\n",
    "except requests.RequestException as e:\n",
    "    print(f\"Error fetching GitHub directory contents: {e}\")\n"
   ]
  }
 ],
 "metadata": {
  "kernelspec": {
   "display_name": "Python 3",
   "language": "python",
   "name": "python3"
  },
  "language_info": {
   "codemirror_mode": {
    "name": "ipython",
    "version": 3
   },
   "file_extension": ".py",
   "mimetype": "text/x-python",
   "name": "python",
   "nbconvert_exporter": "python",
   "pygments_lexer": "ipython3",
   "version": "3.10.12"
  }
 },
 "nbformat": 4,
 "nbformat_minor": 2
}
